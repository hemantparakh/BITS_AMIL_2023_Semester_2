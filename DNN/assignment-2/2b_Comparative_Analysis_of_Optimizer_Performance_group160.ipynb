{
  "cells": [
    {
      "cell_type": "markdown",
      "metadata": {
        "id": "LFtcuo6miupg"
      },
      "source": [
        "## Group No **160**\n",
        "\n",
        "## Group Member Names:\n",
        "1. **Sushil Kumar 2023AA05849**\n",
        "2. **Hemant Kumar Parakh 2023AA05741**\n",
        "3. **Nagineni Sathish Babu 2023AA05585**\n",
        "4. **Madala Akhil 2023AA05005**\n"
      ]
    },
    {
      "cell_type": "markdown",
      "metadata": {
        "id": "o7DuB9R8fRbl"
      },
      "source": [
        "# Deep Neural Network using Keras"
      ]
    },
    {
      "cell_type": "markdown",
      "metadata": {
        "id": "Mf-iVuHijAMR"
      },
      "source": [
        "## 1. Import the required libraries"
      ]
    },
    {
      "cell_type": "code",
      "execution_count": null,
      "metadata": {
        "id": "AmQSQO6mg2p8"
      },
      "outputs": [],
      "source": [
        "#!pip install tensorflow\n",
        "#!pip install numpy"
      ]
    },
    {
      "cell_type": "code",
      "execution_count": null,
      "metadata": {
        "id": "sAGtEXdbfRbn"
      },
      "outputs": [],
      "source": [
        "import tensorflow as tf\n",
        "\n",
        "from tensorflow.keras import layers\n",
        "from tensorflow.keras import models\n",
        "\n",
        "import random\n",
        "import numpy as np"
      ]
    },
    {
      "cell_type": "markdown",
      "metadata": {
        "id": "eLAi5c8AfRbr"
      },
      "source": [
        "## 2. Dataset\n",
        "\n",
        "Using a standard dataset such as MNIST"
      ]
    },
    {
      "cell_type": "code",
      "execution_count": null,
      "metadata": {
        "id": "mHlg9FZsfRbq"
      },
      "outputs": [],
      "source": [
        "random.seed(42)         # Initialize the random number generator.\n",
        "np.random.seed(42)      # With the seed reset, the same set of\n",
        "                        # numbers will appear every time.\n",
        "tf.random.set_seed(42)  # sets the graph-level random seed"
      ]
    },
    {
      "cell_type": "code",
      "execution_count": null,
      "metadata": {
        "id": "Gnh0v-24fRbr"
      },
      "outputs": [],
      "source": [
        "# Use the MNIST dataset  of Keras.\n",
        "\n",
        "mnist = tf.keras.datasets.mnist\n",
        "\n",
        "(Xtrain, Ytrain) , (Xtest, Ytest) = mnist.load_data()"
      ]
    },
    {
      "cell_type": "code",
      "execution_count": null,
      "metadata": {
        "colab": {
          "base_uri": "https://localhost:8080/",
          "height": 276
        },
        "id": "hTjpmr-VfRbr",
        "outputId": "0a8151fb-5876-4953-ad1e-63239292943b"
      },
      "outputs": [
        {
          "data": {
            "text/plain": [
              "Text(0.5, 1.0, 'Ground Truth (Test): 7')"
            ]
          },
          "execution_count": 5,
          "metadata": {},
          "output_type": "execute_result"
        },
        {
          "data": {
            "image/png": "[encoded data removed]",
            "text/plain": [
              "<Figure size 500x500 with 2 Axes>"
            ]
          },
          "metadata": {},
          "output_type": "display_data"
        }
      ],
      "source": [
        "import matplotlib.pyplot as plt\n",
        "\n",
        "plt.figure(figsize=[5,5])\n",
        "\n",
        "# Display the first image in training data\n",
        "plt.subplot(121)\n",
        "plt.imshow(Xtrain[0,:,:], cmap='gray')\n",
        "plt.title(\"Ground Truth (Train) : {}\".format(Ytrain[0]))\n",
        "\n",
        "# Display the first image in testing data\n",
        "plt.subplot(122)\n",
        "plt.imshow(Xtest[0,:,:], cmap='gray')\n",
        "plt.title(\"Ground Truth (Test): {}\".format(Ytest[0]))"
      ]
    },
    {
      "cell_type": "code",
      "execution_count": null,
      "metadata": {
        "colab": {
          "base_uri": "https://localhost:8080/"
        },
        "id": "tAajKny7fRbs",
        "outputId": "d4353811-0f33-4ef5-fe34-7b6c3c0235a5"
      },
      "outputs": [
        {
          "name": "stdout",
          "output_type": "stream",
          "text": [
            "(60000, 28, 28)\n",
            "(10000, 28, 28)\n",
            "(60000,)\n",
            "(10000,)\n"
          ]
        }
      ],
      "source": [
        "# size of the datsets\n",
        "\n",
        "print(Xtrain.shape)\n",
        "print(Xtest.shape)\n",
        "print(Ytrain.shape)\n",
        "print(Ytest.shape)"
      ]
    },
    {
      "cell_type": "code",
      "execution_count": null,
      "metadata": {
        "colab": {
          "base_uri": "https://localhost:8080/"
        },
        "id": "2Lb5TdZRfRbt",
        "outputId": "da79fd97-9d9a-4e9d-fb6a-7424a0e38446"
      },
      "outputs": [
        {
          "name": "stdout",
          "output_type": "stream",
          "text": [
            "Xtrain \n",
            " [  0   0   0   0   0   0   0   0   0   0   0   0   0  24 209 254 254 254\n",
            " 171   0   0   0   0   0   0   0   0   0]\n",
            "Xtest \n",
            " [  0   0   0   0   0   0   0   0 194 254 103   0   0   0   0   0   0   0\n",
            "   0   0 150 254 213   0   0   0   0   0]\n",
            "Ytrain \n",
            " 3\n",
            "Ytest \n",
            " 0\n"
          ]
        }
      ],
      "source": [
        "# print a sample data\n",
        "\n",
        "print('Xtrain \\n', Xtrain[10,10])\n",
        "print('Xtest \\n', Xtest[10,10])\n",
        "print('Ytrain \\n', Ytrain[10,])\n",
        "print('Ytest \\n', Ytest[10,])"
      ]
    },
    {
      "cell_type": "markdown",
      "metadata": {
        "id": "xBb5LaJRkroi"
      },
      "source": [
        "## 3. Data Preparation\n",
        "\n",
        "*   Loading and checking the shape of the datasets:\n",
        "Xtrain, Xtest, Ytrain, and Ytest represent the features and labels for training and testing sets.\n",
        "*   Visualizing Data:\n",
        "The code visualizes the first image in both the training and testing datasets to ensure that the data is correctly loaded and structured.\n",
        "\n"
      ]
    },
    {
      "cell_type": "code",
      "execution_count": null,
      "metadata": {
        "id": "I9wePNGpfRbu"
      },
      "outputs": [],
      "source": [
        "# Normalize the data\n",
        "# 60000 input images are in the train set.\n",
        "# 10000 input images are in the test set.\n",
        "\n",
        "Xtrain = Xtrain.reshape((60000, 28*28))    # reshape the input set to size 28*28.\n",
        "Xtrain = Xtrain.astype('float32')/255      # normalize to grayscale; set datatype as float32\n",
        "\n",
        "Xtest = Xtest.reshape((10000, 28*28))      # reshape the input set to size 28*28.\n",
        "Xtest = Xtest.astype('float32')/255        # normalize to grayscale; set datatype as float32\n",
        "\n",
        "Ytrain = tf.keras.utils.to_categorical(Ytrain)\n",
        "Ytest = tf.keras.utils.to_categorical(Ytest)"
      ]
    },
    {
      "cell_type": "code",
      "execution_count": null,
      "metadata": {
        "colab": {
          "base_uri": "https://localhost:8080/"
        },
        "id": "9gYQ4-fifRbu",
        "outputId": "f96c86e1-d18b-4a5a-a46e-212b297dac26"
      },
      "outputs": [
        {
          "name": "stdout",
          "output_type": "stream",
          "text": [
            "Xtrain \n",
            " 0.0\n",
            "Xtest \n",
            " 0.0\n",
            "Ytrain \n",
            " [0. 0. 0. 1. 0. 0. 0. 0. 0. 0.]\n",
            "Ytest \n",
            " [1. 0. 0. 0. 0. 0. 0. 0. 0. 0.]\n"
          ]
        }
      ],
      "source": [
        "# print a sample data\n",
        "\n",
        "print('Xtrain \\n', Xtrain[10,10])\n",
        "print('Xtest \\n', Xtest[10,10])\n",
        "print('Ytrain \\n', Ytrain[10,])\n",
        "print('Ytest \\n', Ytest[10,])"
      ]
    },
    {
      "cell_type": "markdown",
      "metadata": {
        "id": "CZWQvWRUfRbv"
      },
      "source": [
        "## 4.1 DNN architecture\n",
        "\n",
        "The model is built using Keras with a sequential architecture.\n",
        "\n",
        "It starts with a dense input layer, followed by multiple hidden layers, each using ReLU activation, and ends with an output layer using softmax activation.\n",
        "\n",
        "Number of layers: The architecture typically has 4 or 5 layers, including an input layer, two or three hidden layers, and an output layer. The choice of more hidden layers was justified by the need to capture more complex patterns in the data."
      ]
    },
    {
      "cell_type": "code",
      "execution_count": null,
      "metadata": {
        "id": "YcT2mlr-fRbw",
        "outputId": "1c1aa295-108f-4edb-d712-c622c31d4c88"
      },
      "outputs": [
        {
          "name": "stderr",
          "output_type": "stream",
          "text": [
            "C:\\Users\\DELL\\anaconda3\\Lib\\site-packages\\keras\\src\\layers\\core\\dense.py:87: UserWarning: Do not pass an `input_shape`/`input_dim` argument to a layer. When using Sequential models, prefer using an `Input(shape)` object as the first layer in the model instead.\n",
            "  super().__init__(activity_regularizer=activity_regularizer, **kwargs)\n"
          ]
        }
      ],
      "source": [
        "\n",
        "from tensorflow.keras import layers, models\n",
        "\n",
        "# Define the model before adding layers\n",
        "dnnModel = models.Sequential()\n",
        "\n",
        "# Layer 1: Input layer with specified input shape\n",
        "dnnModel.add(layers.Dense(512, activation='relu', input_shape= (28*28,)))\n",
        "\n",
        "# Layer 2: Hidden layer\n",
        "dnnModel.add(layers.Dense(512, activation='relu'))\n",
        "\n",
        "# Layer 3: Another hidden layer\n",
        "dnnModel.add(layers.Dense(512, activation='relu'))\n",
        "\n",
        "# Output layer\n",
        "dnnModel.add(layers.Dense(10, activation='softmax'))\n",
        "\n",
        "# Compile the model with an optimizer (Adam)\n",
        "dnnModel.compile(optimizer='adam',\n",
        "                 loss='categorical_crossentropy',\n",
        "                 metrics=['accuracy'])\n"
      ]
    },
    {
      "cell_type": "markdown",
      "metadata": {
        "id": "qZNwVcq3fRbw"
      },
      "source": [
        "## 4.2 DNN Report\n",
        "\n",
        "**Number of Layers with Justification**:\n",
        "\n",
        "Number of layers:\n",
        "\n",
        "The architecture has four layers in some versions (input, two hidden layers, and output), while other configurations suggest up to five layers.\n",
        "\n",
        "The hidden layers use ReLU activation, and the final output layer uses softmax activation.\n",
        "\n",
        "Justification for the architecture includes experimentation with increased hidden layers to improve model performance.\n",
        "\n",
        "**Number of Units in Each Layer with Justification**:\n",
        "\n",
        "*   Input layer: 512 units.\n",
        "*   Hidden layers: Three configurations are mentioned, with the hidden layers containing 512 units each. In some cases, alternative configurations use 50, 60, and 30 units in different layers.\n",
        "*   Output layer: 10 units (corresponding to the number of classes in the dataset).\n",
        "*   The justification for using a higher number of units in the hidden layers is to improve model performance by capturing complex data patterns.\n"
      ]
    },
    {
      "cell_type": "code",
      "execution_count": null,
      "metadata": {
        "colab": {
          "base_uri": "https://localhost:8080/",
          "height": 408
        },
        "id": "H_MJ1oFpfRbx",
        "outputId": "c6024c17-0263-484e-cb12-221b38c52ecf"
      },
      "outputs": [
        {
          "data": {
            "text/html": [
              "<pre style=\"white-space:pre;overflow-x:auto;line-height:normal;font-family:Menlo,'DejaVu Sans Mono',consolas,'Courier New',monospace\"><span style=\"font-weight: bold\">Model: \"sequential\"</span>\n",
              "</pre>\n"
            ],
            "text/plain": [
              "\u001b[1mModel: \"sequential\"\u001b[0m\n"
            ]
          },
          "metadata": {},
          "output_type": "display_data"
        },
        {
          "data": {
            "text/html": [
              "<pre style=\"white-space:pre;overflow-x:auto;line-height:normal;font-family:Menlo,'DejaVu Sans Mono',consolas,'Courier New',monospace\">┏━━━━━━━━━━━━━━━━━━━━━━━━━━━━━━━━━━━━━━┳━━━━━━━━━━━━━━━━━━━━━━━━━━━━━┳━━━━━━━━━━━━━━━━━┓\n",
              "┃<span style=\"font-weight: bold\"> Layer (type)                         </span>┃<span style=\"font-weight: bold\"> Output Shape                </span>┃<span style=\"font-weight: bold\">         Param # </span>┃\n",
              "┡━━━━━━━━━━━━━━━━━━━━━━━━━━━━━━━━━━━━━━╇━━━━━━━━━━━━━━━━━━━━━━━━━━━━━╇━━━━━━━━━━━━━━━━━┩\n",
              "│ dense (<span style=\"color: #0087ff; text-decoration-color: #0087ff\">Dense</span>)                        │ (<span style=\"color: #00d7ff; text-decoration-color: #00d7ff\">None</span>, <span style=\"color: #00af00; text-decoration-color: #00af00\">512</span>)                 │         <span style=\"color: #00af00; text-decoration-color: #00af00\">401,920</span> │\n",
              "├──────────────────────────────────────┼─────────────────────────────┼─────────────────┤\n",
              "│ dense_1 (<span style=\"color: #0087ff; text-decoration-color: #0087ff\">Dense</span>)                      │ (<span style=\"color: #00d7ff; text-decoration-color: #00d7ff\">None</span>, <span style=\"color: #00af00; text-decoration-color: #00af00\">512</span>)                 │         <span style=\"color: #00af00; text-decoration-color: #00af00\">262,656</span> │\n",
              "├──────────────────────────────────────┼─────────────────────────────┼─────────────────┤\n",
              "│ dense_2 (<span style=\"color: #0087ff; text-decoration-color: #0087ff\">Dense</span>)                      │ (<span style=\"color: #00d7ff; text-decoration-color: #00d7ff\">None</span>, <span style=\"color: #00af00; text-decoration-color: #00af00\">512</span>)                 │         <span style=\"color: #00af00; text-decoration-color: #00af00\">262,656</span> │\n",
              "├──────────────────────────────────────┼─────────────────────────────┼─────────────────┤\n",
              "│ dense_3 (<span style=\"color: #0087ff; text-decoration-color: #0087ff\">Dense</span>)                      │ (<span style=\"color: #00d7ff; text-decoration-color: #00d7ff\">None</span>, <span style=\"color: #00af00; text-decoration-color: #00af00\">10</span>)                  │           <span style=\"color: #00af00; text-decoration-color: #00af00\">5,130</span> │\n",
              "├──────────────────────────────────────┼─────────────────────────────┼─────────────────┤\n",
              "│ dense_4 (<span style=\"color: #0087ff; text-decoration-color: #0087ff\">Dense</span>)                      │ (<span style=\"color: #00d7ff; text-decoration-color: #00d7ff\">None</span>, <span style=\"color: #00af00; text-decoration-color: #00af00\">50</span>)                  │             <span style=\"color: #00af00; text-decoration-color: #00af00\">550</span> │\n",
              "├──────────────────────────────────────┼─────────────────────────────┼─────────────────┤\n",
              "│ dense_5 (<span style=\"color: #0087ff; text-decoration-color: #0087ff\">Dense</span>)                      │ (<span style=\"color: #00d7ff; text-decoration-color: #00d7ff\">None</span>, <span style=\"color: #00af00; text-decoration-color: #00af00\">60</span>)                  │           <span style=\"color: #00af00; text-decoration-color: #00af00\">3,060</span> │\n",
              "├──────────────────────────────────────┼─────────────────────────────┼─────────────────┤\n",
              "│ dense_6 (<span style=\"color: #0087ff; text-decoration-color: #0087ff\">Dense</span>)                      │ (<span style=\"color: #00d7ff; text-decoration-color: #00d7ff\">None</span>, <span style=\"color: #00af00; text-decoration-color: #00af00\">30</span>)                  │           <span style=\"color: #00af00; text-decoration-color: #00af00\">1,830</span> │\n",
              "├──────────────────────────────────────┼─────────────────────────────┼─────────────────┤\n",
              "│ dense_7 (<span style=\"color: #0087ff; text-decoration-color: #0087ff\">Dense</span>)                      │ (<span style=\"color: #00d7ff; text-decoration-color: #00d7ff\">None</span>, <span style=\"color: #00af00; text-decoration-color: #00af00\">10</span>)                  │             <span style=\"color: #00af00; text-decoration-color: #00af00\">310</span> │\n",
              "└──────────────────────────────────────┴─────────────────────────────┴─────────────────┘\n",
              "</pre>\n"
            ],
            "text/plain": [
              "┏━━━━━━━━━━━━━━━━━━━━━━━━━━━━━━━━━━━━━━┳━━━━━━━━━━━━━━━━━━━━━━━━━━━━━┳━━━━━━━━━━━━━━━━━┓\n",
              "┃\u001b[1m \u001b[0m\u001b[1mLayer (type)                        \u001b[0m\u001b[1m \u001b[0m┃\u001b[1m \u001b[0m\u001b[1mOutput Shape               \u001b[0m\u001b[1m \u001b[0m┃\u001b[1m \u001b[0m\u001b[1m        Param #\u001b[0m\u001b[1m \u001b[0m┃\n",
              "┡━━━━━━━━━━━━━━━━━━━━━━━━━━━━━━━━━━━━━━╇━━━━━━━━━━━━━━━━━━━━━━━━━━━━━╇━━━━━━━━━━━━━━━━━┩\n",
              "│ dense (\u001b[38;5;33mDense\u001b[0m)                        │ (\u001b[38;5;45mNone\u001b[0m, \u001b[38;5;34m512\u001b[0m)                 │         \u001b[38;5;34m401,920\u001b[0m │\n",
              "├──────────────────────────────────────┼─────────────────────────────┼─────────────────┤\n",
              "│ dense_1 (\u001b[38;5;33mDense\u001b[0m)                      │ (\u001b[38;5;45mNone\u001b[0m, \u001b[38;5;34m512\u001b[0m)                 │         \u001b[38;5;34m262,656\u001b[0m │\n",
              "├──────────────────────────────────────┼─────────────────────────────┼─────────────────┤\n",
              "│ dense_2 (\u001b[38;5;33mDense\u001b[0m)                      │ (\u001b[38;5;45mNone\u001b[0m, \u001b[38;5;34m512\u001b[0m)                 │         \u001b[38;5;34m262,656\u001b[0m │\n",
              "├──────────────────────────────────────┼─────────────────────────────┼─────────────────┤\n",
              "│ dense_3 (\u001b[38;5;33mDense\u001b[0m)                      │ (\u001b[38;5;45mNone\u001b[0m, \u001b[38;5;34m10\u001b[0m)                  │           \u001b[38;5;34m5,130\u001b[0m │\n",
              "├──────────────────────────────────────┼─────────────────────────────┼─────────────────┤\n",
              "│ dense_4 (\u001b[38;5;33mDense\u001b[0m)                      │ (\u001b[38;5;45mNone\u001b[0m, \u001b[38;5;34m50\u001b[0m)                  │             \u001b[38;5;34m550\u001b[0m │\n",
              "├──────────────────────────────────────┼─────────────────────────────┼─────────────────┤\n",
              "│ dense_5 (\u001b[38;5;33mDense\u001b[0m)                      │ (\u001b[38;5;45mNone\u001b[0m, \u001b[38;5;34m60\u001b[0m)                  │           \u001b[38;5;34m3,060\u001b[0m │\n",
              "├──────────────────────────────────────┼─────────────────────────────┼─────────────────┤\n",
              "│ dense_6 (\u001b[38;5;33mDense\u001b[0m)                      │ (\u001b[38;5;45mNone\u001b[0m, \u001b[38;5;34m30\u001b[0m)                  │           \u001b[38;5;34m1,830\u001b[0m │\n",
              "├──────────────────────────────────────┼─────────────────────────────┼─────────────────┤\n",
              "│ dense_7 (\u001b[38;5;33mDense\u001b[0m)                      │ (\u001b[38;5;45mNone\u001b[0m, \u001b[38;5;34m10\u001b[0m)                  │             \u001b[38;5;34m310\u001b[0m │\n",
              "└──────────────────────────────────────┴─────────────────────────────┴─────────────────┘\n"
            ]
          },
          "metadata": {},
          "output_type": "display_data"
        },
        {
          "data": {
            "text/html": [
              "<pre style=\"white-space:pre;overflow-x:auto;line-height:normal;font-family:Menlo,'DejaVu Sans Mono',consolas,'Courier New',monospace\"><span style=\"font-weight: bold\"> Total params: </span><span style=\"color: #00af00; text-decoration-color: #00af00\">938,112</span> (3.58 MB)\n",
              "</pre>\n"
            ],
            "text/plain": [
              "\u001b[1m Total params: \u001b[0m\u001b[38;5;34m938,112\u001b[0m (3.58 MB)\n"
            ]
          },
          "metadata": {},
          "output_type": "display_data"
        },
        {
          "data": {
            "text/html": [
              "<pre style=\"white-space:pre;overflow-x:auto;line-height:normal;font-family:Menlo,'DejaVu Sans Mono',consolas,'Courier New',monospace\"><span style=\"font-weight: bold\"> Trainable params: </span><span style=\"color: #00af00; text-decoration-color: #00af00\">938,112</span> (3.58 MB)\n",
              "</pre>\n"
            ],
            "text/plain": [
              "\u001b[1m Trainable params: \u001b[0m\u001b[38;5;34m938,112\u001b[0m (3.58 MB)\n"
            ]
          },
          "metadata": {},
          "output_type": "display_data"
        },
        {
          "data": {
            "text/html": [
              "<pre style=\"white-space:pre;overflow-x:auto;line-height:normal;font-family:Menlo,'DejaVu Sans Mono',consolas,'Courier New',monospace\"><span style=\"font-weight: bold\"> Non-trainable params: </span><span style=\"color: #00af00; text-decoration-color: #00af00\">0</span> (0.00 B)\n",
              "</pre>\n"
            ],
            "text/plain": [
              "\u001b[1m Non-trainable params: \u001b[0m\u001b[38;5;34m0\u001b[0m (0.00 B)\n"
            ]
          },
          "metadata": {},
          "output_type": "display_data"
        }
      ],
      "source": [
        "# Layer 1 = input layer\n",
        "# specify the input size in the first layer.\n",
        "\n",
        "dnnModel.add(layers.Dense(50, activation='relu', input_shape= (28*28,)))\n",
        "\n",
        "# Layer 2 = hidden layer\n",
        "dnnModel.add(layers.Dense(60, activation='relu'))\n",
        "\n",
        "# Layer 3 = hidden layer\n",
        "dnnModel.add(layers.Dense(30, activation='relu'))\n",
        "\n",
        "\n",
        "# Layer 4 = output layer\n",
        "dnnModel.add(layers.Dense(10, activation='softmax'))\n",
        "\n",
        "dnnModel.summary()"
      ]
    },
    {
      "cell_type": "code",
      "execution_count": null,
      "metadata": {
        "id": "b3dWHVgMfRbx"
      },
      "outputs": [],
      "source": [
        "\n",
        "from tensorflow.keras import layers, models, optimizers\n",
        "\n",
        "dnnModel_adam = models.Sequential()\n",
        "\n",
        "# Input layer\n",
        "dnnModel_adam.add(layers.Dense(512, activation='relu', input_shape=(28 * 28,)))\n",
        "\n",
        "# Increased hidden layers with more units\n",
        "dnnModel_adam.add(layers.Dense(512, activation='relu'))\n",
        "dnnModel_adam.add(layers.Dense(512, activation='relu'))\n",
        "\n",
        "# Output layer\n",
        "dnnModel_adam.add(layers.Dense(10, activation='softmax'))\n",
        "\n",
        "# Change optimizer to Adam\n",
        "dnnModel_adam.compile(optimizer=optimizers.Adam(),\n",
        "              loss='categorical_crossentropy',\n",
        "              metrics=['accuracy'])\n"
      ]
    },
    {
      "cell_type": "code",
      "execution_count": null,
      "metadata": {
        "colab": {
          "base_uri": "https://localhost:8080/",
          "height": 272
        },
        "id": "Kl4S_c8Sd-gf",
        "outputId": "e09d119f-1d74-4740-9b91-bb3e5a3a4f0e"
      },
      "outputs": [
        {
          "data": {
            "text/html": [
              "<pre style=\"white-space:pre;overflow-x:auto;line-height:normal;font-family:Menlo,'DejaVu Sans Mono',consolas,'Courier New',monospace\"><span style=\"font-weight: bold\">Model: \"sequential_2\"</span>\n",
              "</pre>\n"
            ],
            "text/plain": [
              "\u001b[1mModel: \"sequential_2\"\u001b[0m\n"
            ]
          },
          "metadata": {},
          "output_type": "display_data"
        },
        {
          "data": {
            "text/html": [
              "<pre style=\"white-space:pre;overflow-x:auto;line-height:normal;font-family:Menlo,'DejaVu Sans Mono',consolas,'Courier New',monospace\">┏━━━━━━━━━━━━━━━━━━━━━━━━━━━━━━━━━━━━━━┳━━━━━━━━━━━━━━━━━━━━━━━━━━━━━┳━━━━━━━━━━━━━━━━━┓\n",
              "┃<span style=\"font-weight: bold\"> Layer (type)                         </span>┃<span style=\"font-weight: bold\"> Output Shape                </span>┃<span style=\"font-weight: bold\">         Param # </span>┃\n",
              "┡━━━━━━━━━━━━━━━━━━━━━━━━━━━━━━━━━━━━━━╇━━━━━━━━━━━━━━━━━━━━━━━━━━━━━╇━━━━━━━━━━━━━━━━━┩\n",
              "│ dense_12 (<span style=\"color: #0087ff; text-decoration-color: #0087ff\">Dense</span>)                     │ (<span style=\"color: #00d7ff; text-decoration-color: #00d7ff\">None</span>, <span style=\"color: #00af00; text-decoration-color: #00af00\">50</span>)                  │          <span style=\"color: #00af00; text-decoration-color: #00af00\">39,250</span> │\n",
              "├──────────────────────────────────────┼─────────────────────────────┼─────────────────┤\n",
              "│ dense_13 (<span style=\"color: #0087ff; text-decoration-color: #0087ff\">Dense</span>)                     │ (<span style=\"color: #00d7ff; text-decoration-color: #00d7ff\">None</span>, <span style=\"color: #00af00; text-decoration-color: #00af00\">60</span>)                  │           <span style=\"color: #00af00; text-decoration-color: #00af00\">3,060</span> │\n",
              "├──────────────────────────────────────┼─────────────────────────────┼─────────────────┤\n",
              "│ dense_14 (<span style=\"color: #0087ff; text-decoration-color: #0087ff\">Dense</span>)                     │ (<span style=\"color: #00d7ff; text-decoration-color: #00d7ff\">None</span>, <span style=\"color: #00af00; text-decoration-color: #00af00\">30</span>)                  │           <span style=\"color: #00af00; text-decoration-color: #00af00\">1,830</span> │\n",
              "├──────────────────────────────────────┼─────────────────────────────┼─────────────────┤\n",
              "│ dense_15 (<span style=\"color: #0087ff; text-decoration-color: #0087ff\">Dense</span>)                     │ (<span style=\"color: #00d7ff; text-decoration-color: #00d7ff\">None</span>, <span style=\"color: #00af00; text-decoration-color: #00af00\">10</span>)                  │             <span style=\"color: #00af00; text-decoration-color: #00af00\">310</span> │\n",
              "└──────────────────────────────────────┴─────────────────────────────┴─────────────────┘\n",
              "</pre>\n"
            ],
            "text/plain": [
              "┏━━━━━━━━━━━━━━━━━━━━━━━━━━━━━━━━━━━━━━┳━━━━━━━━━━━━━━━━━━━━━━━━━━━━━┳━━━━━━━━━━━━━━━━━┓\n",
              "┃\u001b[1m \u001b[0m\u001b[1mLayer (type)                        \u001b[0m\u001b[1m \u001b[0m┃\u001b[1m \u001b[0m\u001b[1mOutput Shape               \u001b[0m\u001b[1m \u001b[0m┃\u001b[1m \u001b[0m\u001b[1m        Param #\u001b[0m\u001b[1m \u001b[0m┃\n",
              "┡━━━━━━━━━━━━━━━━━━━━━━━━━━━━━━━━━━━━━━╇━━━━━━━━━━━━━━━━━━━━━━━━━━━━━╇━━━━━━━━━━━━━━━━━┩\n",
              "│ dense_12 (\u001b[38;5;33mDense\u001b[0m)                     │ (\u001b[38;5;45mNone\u001b[0m, \u001b[38;5;34m50\u001b[0m)                  │          \u001b[38;5;34m39,250\u001b[0m │\n",
              "├──────────────────────────────────────┼─────────────────────────────┼─────────────────┤\n",
              "│ dense_13 (\u001b[38;5;33mDense\u001b[0m)                     │ (\u001b[38;5;45mNone\u001b[0m, \u001b[38;5;34m60\u001b[0m)                  │           \u001b[38;5;34m3,060\u001b[0m │\n",
              "├──────────────────────────────────────┼─────────────────────────────┼─────────────────┤\n",
              "│ dense_14 (\u001b[38;5;33mDense\u001b[0m)                     │ (\u001b[38;5;45mNone\u001b[0m, \u001b[38;5;34m30\u001b[0m)                  │           \u001b[38;5;34m1,830\u001b[0m │\n",
              "├──────────────────────────────────────┼─────────────────────────────┼─────────────────┤\n",
              "│ dense_15 (\u001b[38;5;33mDense\u001b[0m)                     │ (\u001b[38;5;45mNone\u001b[0m, \u001b[38;5;34m10\u001b[0m)                  │             \u001b[38;5;34m310\u001b[0m │\n",
              "└──────────────────────────────────────┴─────────────────────────────┴─────────────────┘\n"
            ]
          },
          "metadata": {},
          "output_type": "display_data"
        },
        {
          "data": {
            "text/html": [
              "<pre style=\"white-space:pre;overflow-x:auto;line-height:normal;font-family:Menlo,'DejaVu Sans Mono',consolas,'Courier New',monospace\"><span style=\"font-weight: bold\"> Total params: </span><span style=\"color: #00af00; text-decoration-color: #00af00\">44,450</span> (173.63 KB)\n",
              "</pre>\n"
            ],
            "text/plain": [
              "\u001b[1m Total params: \u001b[0m\u001b[38;5;34m44,450\u001b[0m (173.63 KB)\n"
            ]
          },
          "metadata": {},
          "output_type": "display_data"
        },
        {
          "data": {
            "text/html": [
              "<pre style=\"white-space:pre;overflow-x:auto;line-height:normal;font-family:Menlo,'DejaVu Sans Mono',consolas,'Courier New',monospace\"><span style=\"font-weight: bold\"> Trainable params: </span><span style=\"color: #00af00; text-decoration-color: #00af00\">44,450</span> (173.63 KB)\n",
              "</pre>\n"
            ],
            "text/plain": [
              "\u001b[1m Trainable params: \u001b[0m\u001b[38;5;34m44,450\u001b[0m (173.63 KB)\n"
            ]
          },
          "metadata": {},
          "output_type": "display_data"
        },
        {
          "data": {
            "text/html": [
              "<pre style=\"white-space:pre;overflow-x:auto;line-height:normal;font-family:Menlo,'DejaVu Sans Mono',consolas,'Courier New',monospace\"><span style=\"font-weight: bold\"> Non-trainable params: </span><span style=\"color: #00af00; text-decoration-color: #00af00\">0</span> (0.00 B)\n",
              "</pre>\n"
            ],
            "text/plain": [
              "\u001b[1m Non-trainable params: \u001b[0m\u001b[38;5;34m0\u001b[0m (0.00 B)\n"
            ]
          },
          "metadata": {},
          "output_type": "display_data"
        }
      ],
      "source": [
        "dnnModel_adam = models.Sequential()\n",
        "dnnModel_adam.add(layers.Dense(50, activation='relu', input_shape= (28*28,)))\n",
        "dnnModel_adam.add(layers.Dense(60, activation='relu'))\n",
        "dnnModel_adam.add(layers.Dense(30, activation='relu'))\n",
        "dnnModel_adam.add(layers.Dense(10, activation='softmax'))\n",
        "dnnModel_adam.summary()"
      ]
    },
    {
      "cell_type": "code",
      "execution_count": null,
      "metadata": {
        "id": "fJzIqWBPfRby"
      },
      "outputs": [],
      "source": [
        "\n",
        "from tensorflow.keras import layers, models, optimizers\n",
        "\n",
        "dnnModel_rmsprop = models.Sequential()\n",
        "\n",
        "# Input layer\n",
        "dnnModel_rmsprop.add(layers.Dense(512, activation='relu', input_shape=(28 * 28,)))\n",
        "\n",
        "# Increased hidden layers with more units\n",
        "dnnModel_rmsprop.add(layers.Dense(512, activation='relu'))\n",
        "dnnModel_rmsprop.add(layers.Dense(512, activation='relu'))\n",
        "\n",
        "# Output layer\n",
        "dnnModel_rmsprop.add(layers.Dense(10, activation='softmax'))\n",
        "\n",
        "# Change optimizer to Adam\n",
        "dnnModel_rmsprop.compile(optimizer=optimizers.Adam(),\n",
        "              loss='categorical_crossentropy',\n",
        "              metrics=['accuracy'])\n"
      ]
    },
    {
      "cell_type": "markdown",
      "metadata": {
        "id": "1zq_T2dYfRbz"
      },
      "source": [
        "## 4.3 Regularization and Optimizations of DNN"
      ]
    },
    {
      "cell_type": "code",
      "execution_count": null,
      "metadata": {
        "id": "8IuMUX-VfRbz"
      },
      "outputs": [],
      "source": [
        "# Configure  the model for training, by using appropriate optimizers and regularizations\n",
        "# Available optimizer: adam, rmsprop, adagrad, sgd\n",
        "# loss:  objective that the model will try to minimize.\n",
        "# Available loss: categorical_crossentropy, binary_crossentropy, mean_squared_error\n",
        "# metrics: List of metrics to be evaluated by the model during training and testing.\n",
        "\n",
        "dnnModel.compile( optimizer = 'sgd', loss = 'categorical_crossentropy', metrics=['accuracy'] )\n",
        "dnnModel_adam.compile( optimizer = 'adam', loss = 'categorical_crossentropy', metrics=['accuracy'] )\n",
        "dnnModel_rmsprop.compile( optimizer = 'rmsprop', loss = 'categorical_crossentropy', metrics=['accuracy'] )"
      ]
    },
    {
      "cell_type": "markdown",
      "metadata": {
        "id": "N9OH1_nYfRb0"
      },
      "source": [
        "## 5. Training the model\n",
        "\n",
        "The model is trained using the Adam optimizer, with categorical cross-entropy as the loss function and accuracy as the evaluation metric.\n",
        "\n",
        "The training code includes multiple optimizers for comparison (Adam, RMSProp, and SGD).\n",
        "\n",
        "The model is trained for 25 epochs with a batch size of 64 and a validation split of 0.1."
      ]
    },
    {
      "cell_type": "code",
      "execution_count": null,
      "metadata": {
        "colab": {
          "base_uri": "https://localhost:8080/"
        },
        "id": "_I6OxxshfRb0",
        "outputId": "9fdae6ee-11e1-4fb8-bd9f-14431a48210a"
      },
      "outputs": [
        {
          "name": "stdout",
          "output_type": "stream",
          "text": [
            "Epoch 1/25\n",
            "\u001b[1m844/844\u001b[0m \u001b[32m━━━━━━━━━━━━━━━━━━━━\u001b[0m\u001b[37m\u001b[0m \u001b[1m6s\u001b[0m 6ms/step - accuracy: 0.1064 - loss: 2.3016 - val_accuracy: 0.1050 - val_loss: 2.3004\n",
            "Epoch 2/25\n",
            "\u001b[1m844/844\u001b[0m \u001b[32m━━━━━━━━━━━━━━━━━━━━\u001b[0m\u001b[37m\u001b[0m \u001b[1m6s\u001b[0m 7ms/step - accuracy: 0.1149 - loss: 2.2994 - val_accuracy: 0.1050 - val_loss: 2.2958\n",
            "Epoch 3/25\n",
            "\u001b[1m844/844\u001b[0m \u001b[32m━━━━━━━━━━━━━━━━━━━━\u001b[0m\u001b[37m\u001b[0m \u001b[1m5s\u001b[0m 6ms/step - accuracy: 0.1234 - loss: 2.2902 - val_accuracy: 0.1833 - val_loss: 2.2445\n",
            "Epoch 4/25\n",
            "\u001b[1m844/844\u001b[0m \u001b[32m━━━━━━━━━━━━━━━━━━━━\u001b[0m\u001b[37m\u001b[0m \u001b[1m5s\u001b[0m 6ms/step - accuracy: 0.1858 - loss: 2.1707 - val_accuracy: 0.2977 - val_loss: 1.8030\n",
            "Epoch 5/25\n",
            "\u001b[1m844/844\u001b[0m \u001b[32m━━━━━━━━━━━━━━━━━━━━\u001b[0m\u001b[37m\u001b[0m \u001b[1m5s\u001b[0m 6ms/step - accuracy: 0.3322 - loss: 1.7416 - val_accuracy: 0.4483 - val_loss: 1.4422\n",
            "Epoch 6/25\n",
            "\u001b[1m844/844\u001b[0m \u001b[32m━━━━━━━━━━━━━━━━━━━━\u001b[0m\u001b[37m\u001b[0m \u001b[1m6s\u001b[0m 7ms/step - accuracy: 0.4564 - loss: 1.4145 - val_accuracy: 0.5860 - val_loss: 1.1480\n",
            "Epoch 7/25\n",
            "\u001b[1m844/844\u001b[0m \u001b[32m━━━━━━━━━━━━━━━━━━━━\u001b[0m\u001b[37m\u001b[0m \u001b[1m6s\u001b[0m 7ms/step - accuracy: 0.6039 - loss: 1.1073 - val_accuracy: 0.7190 - val_loss: 0.8397\n",
            "Epoch 8/25\n",
            "\u001b[1m844/844\u001b[0m \u001b[32m━━━━━━━━━━━━━━━━━━━━\u001b[0m\u001b[37m\u001b[0m \u001b[1m10s\u001b[0m 7ms/step - accuracy: 0.7359 - loss: 0.7700 - val_accuracy: 0.8322 - val_loss: 0.5712\n",
            "Epoch 9/25\n",
            "\u001b[1m844/844\u001b[0m \u001b[32m━━━━━━━━━━━━━━━━━━━━\u001b[0m\u001b[37m\u001b[0m \u001b[1m6s\u001b[0m 7ms/step - accuracy: 0.8463 - loss: 0.5322 - val_accuracy: 0.9042 - val_loss: 0.3972\n",
            "Epoch 10/25\n",
            "\u001b[1m844/844\u001b[0m \u001b[32m━━━━━━━━━━━━━━━━━━━━\u001b[0m\u001b[37m\u001b[0m \u001b[1m6s\u001b[0m 7ms/step - accuracy: 0.9001 - loss: 0.3776 - val_accuracy: 0.9318 - val_loss: 0.2768\n",
            "Epoch 11/25\n",
            "\u001b[1m844/844\u001b[0m \u001b[32m━━━━━━━━━━━━━━━━━━━━\u001b[0m\u001b[37m\u001b[0m \u001b[1m5s\u001b[0m 6ms/step - accuracy: 0.9350 - loss: 0.2561 - val_accuracy: 0.9420 - val_loss: 0.2382\n",
            "Epoch 12/25\n",
            "\u001b[1m844/844\u001b[0m \u001b[32m━━━━━━━━━━━━━━━━━━━━\u001b[0m\u001b[37m\u001b[0m \u001b[1m5s\u001b[0m 6ms/step - accuracy: 0.9499 - loss: 0.1973 - val_accuracy: 0.9473 - val_loss: 0.2196\n",
            "Epoch 13/25\n",
            "\u001b[1m844/844\u001b[0m \u001b[32m━━━━━━━━━━━━━━━━━━━━\u001b[0m\u001b[37m\u001b[0m \u001b[1m5s\u001b[0m 6ms/step - accuracy: 0.9603 - loss: 0.1540 - val_accuracy: 0.9485 - val_loss: 0.2085\n",
            "Epoch 14/25\n",
            "\u001b[1m844/844\u001b[0m \u001b[32m━━━━━━━━━━━━━━━━━━━━\u001b[0m\u001b[37m\u001b[0m \u001b[1m6s\u001b[0m 7ms/step - accuracy: 0.9685 - loss: 0.1261 - val_accuracy: 0.9530 - val_loss: 0.1965\n",
            "Epoch 15/25\n",
            "\u001b[1m844/844\u001b[0m \u001b[32m━━━━━━━━━━━━━━━━━━━━\u001b[0m\u001b[37m\u001b[0m \u001b[1m6s\u001b[0m 7ms/step - accuracy: 0.9755 - loss: 0.0993 - val_accuracy: 0.9555 - val_loss: 0.1953\n",
            "Epoch 16/25\n",
            "\u001b[1m844/844\u001b[0m \u001b[32m━━━━━━━━━━━━━━━━━━━━\u001b[0m\u001b[37m\u001b[0m \u001b[1m6s\u001b[0m 7ms/step - accuracy: 0.9800 - loss: 0.0825 - val_accuracy: 0.9588 - val_loss: 0.1861\n",
            "Epoch 17/25\n",
            "\u001b[1m844/844\u001b[0m \u001b[32m━━━━━━━━━━━━━━━━━━━━\u001b[0m\u001b[37m\u001b[0m \u001b[1m5s\u001b[0m 6ms/step - accuracy: 0.9848 - loss: 0.0637 - val_accuracy: 0.9605 - val_loss: 0.1849\n",
            "Epoch 18/25\n",
            "\u001b[1m844/844\u001b[0m \u001b[32m━━━━━━━━━━━━━━━━━━━━\u001b[0m\u001b[37m\u001b[0m \u001b[1m5s\u001b[0m 6ms/step - accuracy: 0.9883 - loss: 0.0509 - val_accuracy: 0.9598 - val_loss: 0.1929\n",
            "Epoch 19/25\n",
            "\u001b[1m844/844\u001b[0m \u001b[32m━━━━━━━━━━━━━━━━━━━━\u001b[0m\u001b[37m\u001b[0m \u001b[1m6s\u001b[0m 7ms/step - accuracy: 0.9891 - loss: 0.0519 - val_accuracy: 0.9613 - val_loss: 0.1840\n",
            "Epoch 20/25\n",
            "\u001b[1m844/844\u001b[0m \u001b[32m━━━━━━━━━━━━━━━━━━━━\u001b[0m\u001b[37m\u001b[0m \u001b[1m6s\u001b[0m 7ms/step - accuracy: 0.9930 - loss: 0.0353 - val_accuracy: 0.9593 - val_loss: 0.1930\n",
            "Epoch 21/25\n",
            "\u001b[1m844/844\u001b[0m \u001b[32m━━━━━━━━━━━━━━━━━━━━\u001b[0m\u001b[37m\u001b[0m \u001b[1m6s\u001b[0m 7ms/step - accuracy: 0.9893 - loss: 0.0625 - val_accuracy: 0.9625 - val_loss: 0.1858\n",
            "Epoch 22/25\n",
            "\u001b[1m844/844\u001b[0m \u001b[32m━━━━━━━━━━━━━━━━━━━━\u001b[0m\u001b[37m\u001b[0m \u001b[1m6s\u001b[0m 7ms/step - accuracy: 0.9958 - loss: 0.0244 - val_accuracy: 0.9643 - val_loss: 0.1860\n",
            "Epoch 23/25\n",
            "\u001b[1m844/844\u001b[0m \u001b[32m━━━━━━━━━━━━━━━━━━━━\u001b[0m\u001b[37m\u001b[0m \u001b[1m6s\u001b[0m 7ms/step - accuracy: 0.9979 - loss: 0.0166 - val_accuracy: 0.9625 - val_loss: 0.1945\n",
            "Epoch 24/25\n",
            "\u001b[1m844/844\u001b[0m \u001b[32m━━━━━━━━━━━━━━━━━━━━\u001b[0m\u001b[37m\u001b[0m \u001b[1m6s\u001b[0m 7ms/step - accuracy: 0.9986 - loss: 0.0126 - val_accuracy: 0.9640 - val_loss: 0.1962\n",
            "Epoch 25/25\n",
            "\u001b[1m844/844\u001b[0m \u001b[32m━━━━━━━━━━━━━━━━━━━━\u001b[0m\u001b[37m\u001b[0m \u001b[1m6s\u001b[0m 7ms/step - accuracy: 0.9991 - loss: 0.0097 - val_accuracy: 0.9652 - val_loss: 0.1990\n",
            "Epoch 1/25\n",
            "\u001b[1m844/844\u001b[0m \u001b[32m━━━━━━━━━━━━━━━━━━━━\u001b[0m\u001b[37m\u001b[0m \u001b[1m4s\u001b[0m 2ms/step - accuracy: 0.8023 - loss: 0.6954 - val_accuracy: 0.9565 - val_loss: 0.1556\n",
            "Epoch 2/25\n",
            "\u001b[1m844/844\u001b[0m \u001b[32m━━━━━━━━━━━━━━━━━━━━\u001b[0m\u001b[37m\u001b[0m \u001b[1m2s\u001b[0m 2ms/step - accuracy: 0.9490 - loss: 0.1737 - val_accuracy: 0.9652 - val_loss: 0.1199\n",
            "Epoch 3/25\n",
            "\u001b[1m844/844\u001b[0m \u001b[32m━━━━━━━━━━━━━━━━━━━━\u001b[0m\u001b[37m\u001b[0m \u001b[1m2s\u001b[0m 2ms/step - accuracy: 0.9623 - loss: 0.1286 - val_accuracy: 0.9682 - val_loss: 0.1047\n",
            "Epoch 4/25\n",
            "\u001b[1m844/844\u001b[0m \u001b[32m━━━━━━━━━━━━━━━━━━━━\u001b[0m\u001b[37m\u001b[0m \u001b[1m2s\u001b[0m 2ms/step - accuracy: 0.9699 - loss: 0.1026 - val_accuracy: 0.9720 - val_loss: 0.0966\n",
            "Epoch 5/25\n",
            "\u001b[1m844/844\u001b[0m \u001b[32m━━━━━━━━━━━━━━━━━━━━\u001b[0m\u001b[37m\u001b[0m \u001b[1m3s\u001b[0m 2ms/step - accuracy: 0.9751 - loss: 0.0863 - val_accuracy: 0.9740 - val_loss: 0.0941\n",
            "Epoch 6/25\n",
            "\u001b[1m844/844\u001b[0m \u001b[32m━━━━━━━━━━━━━━━━━━━━\u001b[0m\u001b[37m\u001b[0m \u001b[1m2s\u001b[0m 2ms/step - accuracy: 0.9785 - loss: 0.0739 - val_accuracy: 0.9728 - val_loss: 0.1000\n",
            "Epoch 7/25\n",
            "\u001b[1m844/844\u001b[0m \u001b[32m━━━━━━━━━━━━━━━━━━━━\u001b[0m\u001b[37m\u001b[0m \u001b[1m2s\u001b[0m 2ms/step - accuracy: 0.9819 - loss: 0.0621 - val_accuracy: 0.9717 - val_loss: 0.1102\n",
            "Epoch 8/25\n",
            "\u001b[1m844/844\u001b[0m \u001b[32m━━━━━━━━━━━━━━━━━━━━\u001b[0m\u001b[37m\u001b[0m \u001b[1m2s\u001b[0m 2ms/step - accuracy: 0.9853 - loss: 0.0523 - val_accuracy: 0.9718 - val_loss: 0.1118\n",
            "Epoch 9/25\n",
            "\u001b[1m844/844\u001b[0m \u001b[32m━━━━━━━━━━━━━━━━━━━━\u001b[0m\u001b[37m\u001b[0m \u001b[1m2s\u001b[0m 2ms/step - accuracy: 0.9868 - loss: 0.0453 - val_accuracy: 0.9723 - val_loss: 0.1139\n",
            "Epoch 10/25\n",
            "\u001b[1m844/844\u001b[0m \u001b[32m━━━━━━━━━━━━━━━━━━━━\u001b[0m\u001b[37m\u001b[0m \u001b[1m3s\u001b[0m 2ms/step - accuracy: 0.9878 - loss: 0.0399 - val_accuracy: 0.9718 - val_loss: 0.1171\n",
            "Epoch 11/25\n",
            "\u001b[1m844/844\u001b[0m \u001b[32m━━━━━━━━━━━━━━━━━━━━\u001b[0m\u001b[37m\u001b[0m \u001b[1m2s\u001b[0m 2ms/step - accuracy: 0.9874 - loss: 0.0372 - val_accuracy: 0.9705 - val_loss: 0.1180\n",
            "Epoch 12/25\n",
            "\u001b[1m844/844\u001b[0m \u001b[32m━━━━━━━━━━━━━━━━━━━━\u001b[0m\u001b[37m\u001b[0m \u001b[1m2s\u001b[0m 2ms/step - accuracy: 0.9901 - loss: 0.0313 - val_accuracy: 0.9715 - val_loss: 0.1262\n",
            "Epoch 13/25\n",
            "\u001b[1m844/844\u001b[0m \u001b[32m━━━━━━━━━━━━━━━━━━━━\u001b[0m\u001b[37m\u001b[0m \u001b[1m2s\u001b[0m 2ms/step - accuracy: 0.9898 - loss: 0.0304 - val_accuracy: 0.9733 - val_loss: 0.1210\n",
            "Epoch 14/25\n",
            "\u001b[1m844/844\u001b[0m \u001b[32m━━━━━━━━━━━━━━━━━━━━\u001b[0m\u001b[37m\u001b[0m \u001b[1m3s\u001b[0m 2ms/step - accuracy: 0.9914 - loss: 0.0267 - val_accuracy: 0.9762 - val_loss: 0.1238\n",
            "Epoch 15/25\n",
            "\u001b[1m844/844\u001b[0m \u001b[32m━━━━━━━━━━━━━━━━━━━━\u001b[0m\u001b[37m\u001b[0m \u001b[1m2s\u001b[0m 2ms/step - accuracy: 0.9918 - loss: 0.0261 - val_accuracy: 0.9735 - val_loss: 0.1290\n",
            "Epoch 16/25\n",
            "\u001b[1m844/844\u001b[0m \u001b[32m━━━━━━━━━━━━━━━━━━━━\u001b[0m\u001b[37m\u001b[0m \u001b[1m2s\u001b[0m 2ms/step - accuracy: 0.9918 - loss: 0.0228 - val_accuracy: 0.9727 - val_loss: 0.1321\n",
            "Epoch 17/25\n",
            "\u001b[1m844/844\u001b[0m \u001b[32m━━━━━━━━━━━━━━━━━━━━\u001b[0m\u001b[37m\u001b[0m \u001b[1m3s\u001b[0m 2ms/step - accuracy: 0.9927 - loss: 0.0229 - val_accuracy: 0.9747 - val_loss: 0.1239\n",
            "Epoch 18/25\n",
            "\u001b[1m844/844\u001b[0m \u001b[32m━━━━━━━━━━━━━━━━━━━━\u001b[0m\u001b[37m\u001b[0m \u001b[1m2s\u001b[0m 2ms/step - accuracy: 0.9928 - loss: 0.0212 - val_accuracy: 0.9725 - val_loss: 0.1344\n",
            "Epoch 19/25\n",
            "\u001b[1m844/844\u001b[0m \u001b[32m━━━━━━━━━━━━━━━━━━━━\u001b[0m\u001b[37m\u001b[0m \u001b[1m2s\u001b[0m 2ms/step - accuracy: 0.9935 - loss: 0.0202 - val_accuracy: 0.9742 - val_loss: 0.1311\n",
            "Epoch 20/25\n",
            "\u001b[1m844/844\u001b[0m \u001b[32m━━━━━━━━━━━━━━━━━━━━\u001b[0m\u001b[37m\u001b[0m \u001b[1m3s\u001b[0m 2ms/step - accuracy: 0.9946 - loss: 0.0168 - val_accuracy: 0.9748 - val_loss: 0.1325\n",
            "Epoch 21/25\n",
            "\u001b[1m844/844\u001b[0m \u001b[32m━━━━━━━━━━━━━━━━━━━━\u001b[0m\u001b[37m\u001b[0m \u001b[1m2s\u001b[0m 2ms/step - accuracy: 0.9937 - loss: 0.0192 - val_accuracy: 0.9730 - val_loss: 0.1404\n",
            "Epoch 22/25\n",
            "\u001b[1m844/844\u001b[0m \u001b[32m━━━━━━━━━━━━━━━━━━━━\u001b[0m\u001b[37m\u001b[0m \u001b[1m3s\u001b[0m 2ms/step - accuracy: 0.9930 - loss: 0.0217 - val_accuracy: 0.9743 - val_loss: 0.1447\n",
            "Epoch 23/25\n",
            "\u001b[1m844/844\u001b[0m \u001b[32m━━━━━━━━━━━━━━━━━━━━\u001b[0m\u001b[37m\u001b[0m \u001b[1m2s\u001b[0m 2ms/step - accuracy: 0.9947 - loss: 0.0152 - val_accuracy: 0.9763 - val_loss: 0.1352\n",
            "Epoch 24/25\n",
            "\u001b[1m844/844\u001b[0m \u001b[32m━━━━━━━━━━━━━━━━━━━━\u001b[0m\u001b[37m\u001b[0m \u001b[1m2s\u001b[0m 2ms/step - accuracy: 0.9953 - loss: 0.0140 - val_accuracy: 0.9730 - val_loss: 0.1526\n",
            "Epoch 25/25\n",
            "\u001b[1m844/844\u001b[0m \u001b[32m━━━━━━━━━━━━━━━━━━━━\u001b[0m\u001b[37m\u001b[0m \u001b[1m2s\u001b[0m 2ms/step - accuracy: 0.9957 - loss: 0.0125 - val_accuracy: 0.9747 - val_loss: 0.1568\n",
            "Epoch 1/25\n",
            "\u001b[1m844/844\u001b[0m \u001b[32m━━━━━━━━━━━━━━━━━━━━\u001b[0m\u001b[37m\u001b[0m \u001b[1m13s\u001b[0m 14ms/step - accuracy: 0.8699 - loss: 0.4018 - val_accuracy: 0.9607 - val_loss: 0.1313\n",
            "Epoch 2/25\n",
            "\u001b[1m844/844\u001b[0m \u001b[32m━━━━━━━━━━━━━━━━━━━━\u001b[0m\u001b[37m\u001b[0m \u001b[1m11s\u001b[0m 13ms/step - accuracy: 0.9709 - loss: 0.0975 - val_accuracy: 0.9738 - val_loss: 0.0942\n",
            "Epoch 3/25\n",
            "\u001b[1m844/844\u001b[0m \u001b[32m━━━━━━━━━━━━━━━━━━━━\u001b[0m\u001b[37m\u001b[0m \u001b[1m11s\u001b[0m 13ms/step - accuracy: 0.9822 - loss: 0.0603 - val_accuracy: 0.9753 - val_loss: 0.0991\n",
            "Epoch 4/25\n",
            "\u001b[1m844/844\u001b[0m \u001b[32m━━━━━━━━━━━━━━━━━━━━\u001b[0m\u001b[37m\u001b[0m \u001b[1m11s\u001b[0m 13ms/step - accuracy: 0.9870 - loss: 0.0417 - val_accuracy: 0.9798 - val_loss: 0.0931\n",
            "Epoch 5/25\n",
            "\u001b[1m844/844\u001b[0m \u001b[32m━━━━━━━━━━━━━━━━━━━━\u001b[0m\u001b[37m\u001b[0m \u001b[1m11s\u001b[0m 13ms/step - accuracy: 0.9913 - loss: 0.0281 - val_accuracy: 0.9788 - val_loss: 0.1059\n",
            "Epoch 6/25\n",
            "\u001b[1m844/844\u001b[0m \u001b[32m━━━━━━━━━━━━━━━━━━━━\u001b[0m\u001b[37m\u001b[0m \u001b[1m11s\u001b[0m 13ms/step - accuracy: 0.9921 - loss: 0.0266 - val_accuracy: 0.9793 - val_loss: 0.1205\n",
            "Epoch 7/25\n",
            "\u001b[1m844/844\u001b[0m \u001b[32m━━━━━━━━━━━━━━━━━━━━\u001b[0m\u001b[37m\u001b[0m \u001b[1m21s\u001b[0m 13ms/step - accuracy: 0.9933 - loss: 0.0228 - val_accuracy: 0.9763 - val_loss: 0.1357\n",
            "Epoch 8/25\n",
            "\u001b[1m844/844\u001b[0m \u001b[32m━━━━━━━━━━━━━━━━━━━━\u001b[0m\u001b[37m\u001b[0m \u001b[1m20s\u001b[0m 13ms/step - accuracy: 0.9945 - loss: 0.0197 - val_accuracy: 0.9820 - val_loss: 0.1097\n",
            "Epoch 9/25\n",
            "\u001b[1m844/844\u001b[0m \u001b[32m━━━━━━━━━━━━━━━━━━━━\u001b[0m\u001b[37m\u001b[0m \u001b[1m11s\u001b[0m 13ms/step - accuracy: 0.9962 - loss: 0.0127 - val_accuracy: 0.9760 - val_loss: 0.1644\n",
            "Epoch 10/25\n",
            "\u001b[1m844/844\u001b[0m \u001b[32m━━━━━━━━━━━━━━━━━━━━\u001b[0m\u001b[37m\u001b[0m \u001b[1m11s\u001b[0m 13ms/step - accuracy: 0.9960 - loss: 0.0135 - val_accuracy: 0.9798 - val_loss: 0.1505\n",
            "Epoch 11/25\n",
            "\u001b[1m844/844\u001b[0m \u001b[32m━━━━━━━━━━━━━━━━━━━━\u001b[0m\u001b[37m\u001b[0m \u001b[1m11s\u001b[0m 13ms/step - accuracy: 0.9970 - loss: 0.0108 - val_accuracy: 0.9802 - val_loss: 0.1327\n",
            "Epoch 12/25\n",
            "\u001b[1m844/844\u001b[0m \u001b[32m━━━━━━━━━━━━━━━━━━━━\u001b[0m\u001b[37m\u001b[0m \u001b[1m11s\u001b[0m 14ms/step - accuracy: 0.9963 - loss: 0.0134 - val_accuracy: 0.9848 - val_loss: 0.1143\n",
            "Epoch 13/25\n",
            "\u001b[1m844/844\u001b[0m \u001b[32m━━━━━━━━━━━━━━━━━━━━\u001b[0m\u001b[37m\u001b[0m \u001b[1m11s\u001b[0m 13ms/step - accuracy: 0.9978 - loss: 0.0086 - val_accuracy: 0.9822 - val_loss: 0.1399\n",
            "Epoch 14/25\n",
            "\u001b[1m844/844\u001b[0m \u001b[32m━━━━━━━━━━━━━━━━━━━━\u001b[0m\u001b[37m\u001b[0m \u001b[1m11s\u001b[0m 13ms/step - accuracy: 0.9976 - loss: 0.0094 - val_accuracy: 0.9865 - val_loss: 0.1192\n",
            "Epoch 15/25\n",
            "\u001b[1m844/844\u001b[0m \u001b[32m━━━━━━━━━━━━━━━━━━━━\u001b[0m\u001b[37m\u001b[0m \u001b[1m20s\u001b[0m 13ms/step - accuracy: 0.9982 - loss: 0.0076 - val_accuracy: 0.9832 - val_loss: 0.1560\n",
            "Epoch 16/25\n",
            "\u001b[1m844/844\u001b[0m \u001b[32m━━━━━━━━━━━━━━━━━━━━\u001b[0m\u001b[37m\u001b[0m \u001b[1m11s\u001b[0m 13ms/step - accuracy: 0.9977 - loss: 0.0077 - val_accuracy: 0.9848 - val_loss: 0.1439\n",
            "Epoch 17/25\n",
            "\u001b[1m844/844\u001b[0m \u001b[32m━━━━━━━━━━━━━━━━━━━━\u001b[0m\u001b[37m\u001b[0m \u001b[1m11s\u001b[0m 13ms/step - accuracy: 0.9982 - loss: 0.0067 - val_accuracy: 0.9840 - val_loss: 0.1384\n",
            "Epoch 18/25\n",
            "\u001b[1m844/844\u001b[0m \u001b[32m━━━━━━━━━━━━━━━━━━━━\u001b[0m\u001b[37m\u001b[0m \u001b[1m11s\u001b[0m 13ms/step - accuracy: 0.9988 - loss: 0.0054 - val_accuracy: 0.9868 - val_loss: 0.1338\n",
            "Epoch 19/25\n",
            "\u001b[1m844/844\u001b[0m \u001b[32m━━━━━━━━━━━━━━━━━━━━\u001b[0m\u001b[37m\u001b[0m \u001b[1m11s\u001b[0m 13ms/step - accuracy: 0.9993 - loss: 0.0026 - val_accuracy: 0.9853 - val_loss: 0.1478\n",
            "Epoch 20/25\n",
            "\u001b[1m844/844\u001b[0m \u001b[32m━━━━━━━━━━━━━━━━━━━━\u001b[0m\u001b[37m\u001b[0m \u001b[1m11s\u001b[0m 13ms/step - accuracy: 0.9991 - loss: 0.0033 - val_accuracy: 0.9860 - val_loss: 0.1648\n",
            "Epoch 21/25\n",
            "\u001b[1m844/844\u001b[0m \u001b[32m━━━━━━━━━━━━━━━━━━━━\u001b[0m\u001b[37m\u001b[0m \u001b[1m11s\u001b[0m 13ms/step - accuracy: 0.9990 - loss: 0.0031 - val_accuracy: 0.9828 - val_loss: 0.1670\n",
            "Epoch 22/25\n",
            "\u001b[1m844/844\u001b[0m \u001b[32m━━━━━━━━━━━━━━━━━━━━\u001b[0m\u001b[37m\u001b[0m \u001b[1m21s\u001b[0m 13ms/step - accuracy: 0.9988 - loss: 0.0035 - val_accuracy: 0.9842 - val_loss: 0.1746\n",
            "Epoch 23/25\n",
            "\u001b[1m844/844\u001b[0m \u001b[32m━━━━━━━━━━━━━━━━━━━━\u001b[0m\u001b[37m\u001b[0m \u001b[1m11s\u001b[0m 13ms/step - accuracy: 0.9992 - loss: 0.0024 - val_accuracy: 0.9840 - val_loss: 0.1729\n",
            "Epoch 24/25\n",
            "\u001b[1m844/844\u001b[0m \u001b[32m━━━━━━━━━━━━━━━━━━━━\u001b[0m\u001b[37m\u001b[0m \u001b[1m11s\u001b[0m 13ms/step - accuracy: 0.9993 - loss: 0.0023 - val_accuracy: 0.9852 - val_loss: 0.1673\n",
            "Epoch 25/25\n",
            "\u001b[1m844/844\u001b[0m \u001b[32m━━━━━━━━━━━━━━━━━━━━\u001b[0m\u001b[37m\u001b[0m \u001b[1m21s\u001b[0m 13ms/step - accuracy: 0.9993 - loss: 0.0036 - val_accuracy: 0.9852 - val_loss: 0.1676\n"
          ]
        }
      ],
      "source": [
        "# train the model\n",
        "\n",
        "h_sgd  = dnnModel.fit( Xtrain, Ytrain, epochs=25, batch_size=64, validation_split=0.1)\n",
        "h_adam  = dnnModel_adam.fit( Xtrain, Ytrain, epochs=25, batch_size=64, validation_split=0.1)\n",
        "h_rms  = dnnModel_rmsprop.fit( Xtrain, Ytrain, epochs=25, batch_size=64, validation_split=0.1)\n"
      ]
    },
    {
      "cell_type": "code",
      "execution_count": null,
      "metadata": {
        "colab": {
          "base_uri": "https://localhost:8080/"
        },
        "id": "ihG1pdtYfRb1",
        "outputId": "dd5b48cc-09fa-4da4-9b56-9b0527833f0c"
      },
      "outputs": [
        {
          "name": "stdout",
          "output_type": "stream",
          "text": [
            "SGD Final training accuracy  0.9989814758300781\n",
            "Adam Final training accuracy  0.9957592487335205\n",
            "RMSProp Final training accuracy  0.9991666674613953\n"
          ]
        }
      ],
      "source": [
        "#print('Final training loss \\t', h.history['loss'][-1])\n",
        "print('SGD Final training accuracy ', h_sgd.history['accuracy'][-1])\n",
        "print('Adam Final training accuracy ', h_adam.history['accuracy'][-1])\n",
        "print('RMSProp Final training accuracy ', h_rms.history['accuracy'][-1])"
      ]
    },
    {
      "cell_type": "markdown",
      "metadata": {
        "id": "qWrKnIN2fRb1"
      },
      "source": [
        "## 6. Test the model\n",
        "\n",
        "The model is trained using the Adam optimizer, with categorical cross-entropy as the loss function and accuracy as the evaluation metric.\n",
        "\n",
        "The training code includes multiple optimizers for comparison (Adam, RMSProp, and SGD).\n",
        "\n",
        "The model is trained for 25 epochs with a batch size of 64 and a validation split of 0.1.\n"
      ]
    },
    {
      "cell_type": "code",
      "execution_count": null,
      "metadata": {
        "colab": {
          "base_uri": "https://localhost:8080/"
        },
        "id": "a05gOYbmfRb1",
        "outputId": "125af102-7154-40e1-c9ab-34488788168b"
      },
      "outputs": [
        {
          "name": "stdout",
          "output_type": "stream",
          "text": [
            "\u001b[1m313/313\u001b[0m \u001b[32m━━━━━━━━━━━━━━━━━━━━\u001b[0m\u001b[37m\u001b[0m \u001b[1m1s\u001b[0m 2ms/step - accuracy: 0.9551 - loss: 0.2214\n",
            "\u001b[1m313/313\u001b[0m \u001b[32m━━━━━━━━━━━━━━━━━━━━\u001b[0m\u001b[37m\u001b[0m \u001b[1m0s\u001b[0m 1ms/step - accuracy: 0.9669 - loss: 0.1912\n",
            "\u001b[1m313/313\u001b[0m \u001b[32m━━━━━━━━━━━━━━━━━━━━\u001b[0m\u001b[37m\u001b[0m \u001b[1m1s\u001b[0m 2ms/step - accuracy: 0.9781 - loss: 0.2107\n"
          ]
        }
      ],
      "source": [
        "# testing the model\n",
        "\n",
        "testLoss_sgd, testAccuracy_sgd = dnnModel.evaluate( Xtest, Ytest)\n",
        "testLoss_adam, testAccuracy_adam = dnnModel_adam.evaluate( Xtest, Ytest)\n",
        "testLoss_rms, testAccuracy_rms = dnnModel_rmsprop.evaluate( Xtest, Ytest)"
      ]
    },
    {
      "cell_type": "code",
      "execution_count": null,
      "metadata": {
        "colab": {
          "base_uri": "https://localhost:8080/"
        },
        "id": "YYrb9OFSfRb2",
        "outputId": "2b02fcc9-7926-478a-810f-fa8f2586be30"
      },
      "outputs": [
        {
          "name": "stdout",
          "output_type": "stream",
          "text": [
            "Testing loss \t 0.19394351541996002\n",
            "Testing accuracy  0.9620000123977661\n"
          ]
        }
      ],
      "source": [
        "print('Testing loss \\t', testLoss_sgd)\n",
        "print('Testing accuracy ', testAccuracy_sgd)"
      ]
    },
    {
      "cell_type": "markdown",
      "metadata": {
        "id": "ocWmZdoGvdIo"
      },
      "source": [
        "## 7. Report the result\n",
        "\n",
        "1. *The testing accuracy and loss*:\n",
        "*   The accuracy and loss are calculated for different optimizers: SGD, Adam, and RMSProp.\n",
        "*   This comparison shows how each optimizer performed in reducing the loss over training epochs.\n",
        "*   The code specifically evaluates the model with the test set using the Adam optimizer and compares it with others like SGD and RMSProp.\n",
        "\n",
        "2. *The Confusion Matrix for testing dataset*:\n",
        "*   Confusion Matrix: Gives you the breakdown of true and false predictions for each class.\n",
        "\n",
        "3. *performance study metrics like accuracy, precision, recall, F1 Score*:\n",
        "*   Accuracy: Proportion of correct predictions.\n",
        "*   Precision: Percentage of correct positive predictions.\n",
        "*   Recall: Percentage of actual positive instances correctly predicted.\n",
        "*   F1 Score: Balances precision and recall to provide an overall measure of the model's performance.\n"
      ]
    },
    {
      "cell_type": "code",
      "execution_count": null,
      "metadata": {
        "colab": {
          "base_uri": "https://localhost:8080/",
          "height": 472
        },
        "id": "kK82ny7afRb2",
        "outputId": "e975c01e-251c-411a-cc1c-29cd7509a353"
      },
      "outputs": [
        {
          "data": {
            "image/png": "[encoded data removed]",
            "text/plain": [
              "<Figure size 640x480 with 1 Axes>"
            ]
          },
          "metadata": {},
          "output_type": "display_data"
        }
      ],
      "source": [
        "# plot the training accuracy\n",
        "\n",
        "plt.plot(h_sgd.history['accuracy'], label='SGD')\n",
        "plt.plot(h_adam.history['accuracy'], label='Adam')\n",
        "plt.plot(h_rms.history['accuracy'], label='RmsProp')\n",
        "#plt.plot(h.history['val_acc'], label='Val Acc')\n",
        "plt.xlabel('Epochs')\n",
        "plt.ylabel('Loss')\n",
        "plt.title('Plot of Training Accuracy')\n",
        "plt.legend()\n",
        "plt.show()"
      ]
    },
    {
      "cell_type": "code",
      "execution_count": null,
      "metadata": {
        "colab": {
          "base_uri": "https://localhost:8080/",
          "height": 472
        },
        "id": "L-0F4uFVfRb2",
        "outputId": "84472a53-6605-4150-8f30-027ecc3245f8"
      },
      "outputs": [
        {
          "data": {
            "image/png": "[encoded data removed]",
            "text/plain": [
              "<Figure size 640x480 with 1 Axes>"
            ]
          },
          "metadata": {},
          "output_type": "display_data"
        }
      ],
      "source": [
        "# plot the training loss\n",
        "\n",
        "plt.plot(h_sgd.history['loss'], label='SGD')\n",
        "plt.plot(h_adam.history['loss'], label='Adam')\n",
        "plt.plot(h_rms.history['loss'], label='RmsProp')\n",
        "#plt.plot(hes.history['val_loss'], label='Val loss')\n",
        "plt.xlabel('Epochs')\n",
        "plt.ylabel('Loss')\n",
        "plt.title('Plot of Training Loss')\n",
        "plt.legend()\n",
        "plt.show()"
      ]
    },
    {
      "cell_type": "code",
      "execution_count": null,
      "metadata": {
        "id": "EhRawSHFS34s",
        "outputId": "5d270597-8399-4e20-923c-02a039e4982a"
      },
      "outputs": [
        {
          "name": "stdout",
          "output_type": "stream",
          "text": [
            "\u001b[1m313/313\u001b[0m \u001b[32m━━━━━━━━━━━━━━━━━━━━\u001b[0m\u001b[37m\u001b[0m \u001b[1m1s\u001b[0m 3ms/step\n",
            "\u001b[1m313/313\u001b[0m \u001b[32m━━━━━━━━━━━━━━━━━━━━\u001b[0m\u001b[37m\u001b[0m \u001b[1m1s\u001b[0m 1ms/step\n",
            "\u001b[1m313/313\u001b[0m \u001b[32m━━━━━━━━━━━━━━━━━━━━\u001b[0m\u001b[37m\u001b[0m \u001b[1m1s\u001b[0m 2ms/step\n",
            "SGD Optimizer - Confusion Matrix:\n",
            "[[ 963    0    3    0    6    1    5    1    1    0]\n",
            " [   0 1120    9    0    0    0    0    1    5    0]\n",
            " [   0    4  987    0    3    3   11    5   18    1]\n",
            " [   0    0    0  974    1    5    1    3   24    2]\n",
            " [   2    0    6    0  938    1    9    0    0   26]\n",
            " [   3    0    4   18    0  856    5    1    3    2]\n",
            " [   8    2   13    0    6    3  925    0    1    0]\n",
            " [   0    3    6    2    1    0    0  985   10   21]\n",
            " [   0    5   18    7    0    7    1    3  931    2]\n",
            " [   1    4    5    1   22   12    1   20    2  941]]\n",
            "Accuracy: 0.962, Precision: 0.9620884829014041, Recall: 0.962, F1 Score: 0.9620160748004167\n",
            "\n",
            "Adam Optimizer - Confusion Matrix:\n",
            "[[ 966    0    5    1    0    1    5    1    1    0]\n",
            " [   0 1127    3    0    0    1    2    0    2    0]\n",
            " [   1    1 1009    5    1    0    5    5    4    1]\n",
            " [   0    1   10  973    0    9    0    4   11    2]\n",
            " [   0    2    2    0  960    0    7    3    1    7]\n",
            " [   2    0    1    8    2  864    7    2    6    0]\n",
            " [   4    3    1    1    7    3  938    0    1    0]\n",
            " [   3    9   16    3    1    0    2  985    3    6]\n",
            " [   1    1   10    7    6    0    1    4  942    2]\n",
            " [   2    3    2    7   23    7    0    6   10  949]]\n",
            "Accuracy: 0.9713, Precision: 0.9714186294960422, Recall: 0.9713, F1 Score: 0.9712749862500762\n",
            "\n",
            "RMSprop Optimizer - Confusion Matrix:\n",
            "[[ 975    1    1    0    0    0    1    0    1    1]\n",
            " [   1 1128    1    0    0    0    1    0    3    1]\n",
            " [   4    0 1018    3    2    0    1    3    1    0]\n",
            " [   0    0    3  996    0    1    0    2    5    3]\n",
            " [   0    0    3    1  960    1    5    2    1    9]\n",
            " [   3    0    0   16    0  859    7    1    5    1]\n",
            " [   2    2    1    1    3    3  945    0    1    0]\n",
            " [   2    1   11    3    2    0    0  998    9    2]\n",
            " [   4    0    3   13    0    1    1    1  951    0]\n",
            " [   2    2    1    5    7    3    0    4    8  977]]\n",
            "Accuracy: 0.9807, Precision: 0.9808184303871549, Recall: 0.9807, F1 Score: 0.9807007317242699\n"
          ]
        }
      ],
      "source": [
        "import numpy as np\n",
        "from sklearn.metrics import confusion_matrix, accuracy_score, precision_score, recall_score, f1_score\n",
        "\n",
        "def evaluate_model(model, Xtest, Ytest):\n",
        "    # Generate predictions\n",
        "    predictions = model.predict(Xtest)\n",
        "\n",
        "    # Convert predictions from one-hot encoded format to class labels\n",
        "    predicted_labels = np.argmax(predictions, axis=1)\n",
        "    true_labels = np.argmax(Ytest, axis=1)  # Assuming Ytest is one-hot encoded as well\n",
        "\n",
        "    # Calculate confusion matrix\n",
        "    conf_matrix = confusion_matrix(true_labels, predicted_labels)\n",
        "\n",
        "    # Calculate performance metrics\n",
        "    accuracy = accuracy_score(true_labels, predicted_labels)\n",
        "    precision = precision_score(true_labels, predicted_labels, average='weighted')\n",
        "    recall = recall_score(true_labels, predicted_labels, average='weighted')\n",
        "    f1 = f1_score(true_labels, predicted_labels, average='weighted')\n",
        "\n",
        "    # Return the evaluation metrics and confusion matrix\n",
        "    return conf_matrix, accuracy, precision, recall, f1\n",
        "\n",
        "# Evaluate dnnModel (SGD)\n",
        "conf_matrix_sgd, accuracy_sgd, precision_sgd, recall_sgd, f1_sgd = evaluate_model(dnnModel, Xtest, Ytest)\n",
        "\n",
        "# Evaluate dnnModel_adam (Adam optimizer)\n",
        "conf_matrix_adam, accuracy_adam, precision_adam, recall_adam, f1_adam = evaluate_model(dnnModel_adam, Xtest, Ytest)\n",
        "\n",
        "# Evaluate dnnModel_rmsprop (RMSprop optimizer)\n",
        "conf_matrix_rms, accuracy_rms, precision_rms, recall_rms, f1_rms = evaluate_model(dnnModel_rmsprop, Xtest, Ytest)\n",
        "\n",
        "# Display results for all models\n",
        "\n",
        "# SGD\n",
        "print(\"SGD Optimizer - Confusion Matrix:\")\n",
        "print(conf_matrix_sgd)\n",
        "print(f\"Accuracy: {accuracy_sgd}, Precision: {precision_sgd}, Recall: {recall_sgd}, F1 Score: {f1_sgd}\")\n",
        "\n",
        "# Adam\n",
        "print(\"\\nAdam Optimizer - Confusion Matrix:\")\n",
        "print(conf_matrix_adam)\n",
        "print(f\"Accuracy: {accuracy_adam}, Precision: {precision_adam}, Recall: {recall_adam}, F1 Score: {f1_adam}\")\n",
        "\n",
        "# RMSprop\n",
        "print(\"\\nRMSprop Optimizer - Confusion Matrix:\")\n",
        "print(conf_matrix_rms)\n",
        "print(f\"Accuracy: {accuracy_rms}, Precision: {precision_rms}, Recall: {recall_rms}, F1 Score: {f1_rms}\")\n"
      ]
    },
    {
      "cell_type": "code",
      "execution_count": null,
      "metadata": {
        "id": "UHZqXW9gS34t"
      },
      "outputs": [],
      "source": []
    },
    {
      "cell_type": "markdown",
      "source": [
        "***Conclusion:***\n",
        "\n",
        "**SGD Optimizer**:\n",
        "\n",
        "Accuracy: 96.2%\n",
        "Precision: 96.21%\n",
        "Recall: 96.2%\n",
        "F1 Score: 96.2%\n",
        "Performance is solid, with a slightly higher error in misclassifying classes like 8, 9, and 3. The model performs well but has some challenges with classifying images like 6 and 9.\n",
        "\n",
        "**Adam Optimizer**:\n",
        "\n",
        "Accuracy: 97.13%\n",
        "Precision: 97.14%\n",
        "Recall: 97.13%\n",
        "F1 Score: 97.13%\n",
        "Adam shows a clear improvement over SGD, with better classification accuracy across classes. The precision and recall are also better, indicating fewer misclassifications. However, the confusion matrix reveals that it still struggles with some classes like 4 and 9.\n",
        "\n",
        "**RMSprop Optimizer**:\n",
        "\n",
        "Accuracy: 98.07%\n",
        "Precision: 98.08%\n",
        "Recall: 98.07%\n",
        "F1 Score: 98.07%\n",
        "RMSprop shows the best performance among the three optimizers, with the highest accuracy, precision, recall, and F1 score. The confusion matrix reveals that this optimizer has the fewest misclassifications, particularly excelling in correctly classifying most classes. Its performance in handling challenging classes like 9 and 6 is better than the other two optimizers.\n",
        "\n",
        "***Final Remarks***:\n",
        "RMSprop is the best-performing optimizer for this classification task on the MNIST dataset, followed by Adam and then SGD.\n",
        "\n",
        "SGD has a lower accuracy and slightly higher misclassification rates, but it still performs adequately for a basic optimizer.\n",
        "\n",
        "Adam strikes a balance between performance and stability, though it's outperformed by RMSprop on this task.\n",
        "\n",
        "Based on these results, RMSprop would be the recommended optimizer for maximizing classification performance in this scenario."
      ],
      "metadata": {
        "id": "P3s6-kksS70v"
      }
    }
  ],
  "metadata": {
    "colab": {
      "provenance": []
    },
    "kernelspec": {
      "display_name": "Python 3 (ipykernel)",
      "language": "python",
      "name": "python3"
    },
    "language_info": {
      "codemirror_mode": {
        "name": "ipython",
        "version": 3
      },
      "file_extension": ".py",
      "mimetype": "text/x-python",
      "name": "python",
      "nbconvert_exporter": "python",
      "pygments_lexer": "ipython3",
      "version": "3.12.4"
    }
  },
  "nbformat": 4,
  "nbformat_minor": 0
}